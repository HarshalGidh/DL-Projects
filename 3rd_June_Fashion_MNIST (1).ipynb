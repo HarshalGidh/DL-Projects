{
  "nbformat": 4,
  "nbformat_minor": 0,
  "metadata": {
    "colab": {
      "provenance": []
    },
    "kernelspec": {
      "name": "python3",
      "display_name": "Python 3"
    },
    "language_info": {
      "name": "python"
    }
  },
  "cells": [
    {
      "cell_type": "code",
      "execution_count": 1,
      "metadata": {
        "id": "TTaWan_-9WY1"
      },
      "outputs": [],
      "source": [
        "#Importing Libraries\n",
        "import numpy as np\n",
        "import pandas as pd\n",
        "import matplotlib.pyplot as plt\n",
        "import cv2\n",
        "import tensorflow as tf"
      ]
    },
    {
      "cell_type": "code",
      "source": [
        "#Fashion MNIST Dataset :https://www.kaggle.com/datasets/zalando-research/fashionmnist\n",
        "'''\n",
        "Labels\n",
        "\n",
        "Each training and test example is assigned to one of the following labels:\n",
        "\n",
        "0 T-shirt/top\n",
        "1 Trouser\n",
        "2 Pullover\n",
        "3 Dress\n",
        "4 Coat\n",
        "5 Sandal\n",
        "6 Shirt\n",
        "7 Sneaker\n",
        "8 Bag\n",
        "9 Ankle boot\n",
        "'''"
      ],
      "metadata": {
        "colab": {
          "base_uri": "https://localhost:8080/",
          "height": 53
        },
        "id": "3w0OJHNF904M",
        "outputId": "a1ccec8a-ec07-46f8-da62-d2a373171336"
      },
      "execution_count": 2,
      "outputs": [
        {
          "output_type": "execute_result",
          "data": {
            "text/plain": [
              "'\\nLabels\\n\\nEach training and test example is assigned to one of the following labels:\\n\\n0 T-shirt/top\\n1 Trouser\\n2 Pullover\\n3 Dress\\n4 Coat\\n5 Sandal\\n6 Shirt\\n7 Sneaker\\n8 Bag\\n9 Ankle boot\\n'"
            ],
            "application/vnd.google.colaboratory.intrinsic+json": {
              "type": "string"
            }
          },
          "metadata": {},
          "execution_count": 2
        }
      ]
    },
    {
      "cell_type": "code",
      "source": [
        "#Load Dataset\n",
        "(x_train,y_train),(x_test,y_test) =tf.keras.datasets.fashion_mnist.load_data()"
      ],
      "metadata": {
        "id": "tztZQv51-LuK",
        "colab": {
          "base_uri": "https://localhost:8080/"
        },
        "outputId": "ca7405c6-8c74-4aba-b865-67cad17073e6"
      },
      "execution_count": 3,
      "outputs": [
        {
          "output_type": "stream",
          "name": "stdout",
          "text": [
            "Downloading data from https://storage.googleapis.com/tensorflow/tf-keras-datasets/train-labels-idx1-ubyte.gz\n",
            "29515/29515 [==============================] - 0s 0us/step\n",
            "Downloading data from https://storage.googleapis.com/tensorflow/tf-keras-datasets/train-images-idx3-ubyte.gz\n",
            "26421880/26421880 [==============================] - 0s 0us/step\n",
            "Downloading data from https://storage.googleapis.com/tensorflow/tf-keras-datasets/t10k-labels-idx1-ubyte.gz\n",
            "5148/5148 [==============================] - 0s 0us/step\n",
            "Downloading data from https://storage.googleapis.com/tensorflow/tf-keras-datasets/t10k-images-idx3-ubyte.gz\n",
            "4422102/4422102 [==============================] - 0s 0us/step\n"
          ]
        }
      ]
    },
    {
      "cell_type": "code",
      "source": [
        "x_train.shape , y_train.shape #Training Dataset Shape"
      ],
      "metadata": {
        "colab": {
          "base_uri": "https://localhost:8080/"
        },
        "id": "e8nHJ8UT-ga3",
        "outputId": "9007cad9-23f4-4efa-f1f8-f5b57d6b37fa"
      },
      "execution_count": 4,
      "outputs": [
        {
          "output_type": "execute_result",
          "data": {
            "text/plain": [
              "((60000, 28, 28), (60000,))"
            ]
          },
          "metadata": {},
          "execution_count": 4
        }
      ]
    },
    {
      "cell_type": "code",
      "source": [
        "#Test Dataset Shape\n",
        "x_test.shape  ,  y_test.shape"
      ],
      "metadata": {
        "colab": {
          "base_uri": "https://localhost:8080/"
        },
        "id": "vR-2PcCq-nhl",
        "outputId": "746c6421-2c05-4cc6-c1e1-186573c89681"
      },
      "execution_count": 5,
      "outputs": [
        {
          "output_type": "execute_result",
          "data": {
            "text/plain": [
              "((10000, 28, 28), (10000,))"
            ]
          },
          "metadata": {},
          "execution_count": 5
        }
      ]
    },
    {
      "cell_type": "code",
      "source": [
        "#Label_Encoding\n",
        "label_encoder={0: 'T-shirt/top'\n",
        ",1: 'Trouser',\n",
        "2: 'Pullover',\n",
        "3: 'Dress',\n",
        "4: 'Coat',\n",
        "5: 'Sandal',\n",
        "6: 'Shirt',\n",
        "7: 'Sneaker',\n",
        "8: 'Bag',\n",
        "9: 'Ankle boot'}"
      ],
      "metadata": {
        "id": "2mILks3rBo0D"
      },
      "execution_count": 6,
      "outputs": []
    },
    {
      "cell_type": "code",
      "source": [
        "#Plotting Image\n",
        "plt.figure(figsize=(10,8))\n",
        "for i in range(5):\n",
        "  plt.subplot(1,5,i+1)\n",
        "  plt.imshow(x_train[i],cmap='gray')\n",
        "  plt.title(label_encoder[y_train[i]])\n"
      ],
      "metadata": {
        "colab": {
          "base_uri": "https://localhost:8080/",
          "height": 216
        },
        "id": "37te7txn-_2u",
        "outputId": "a7e31a8a-1b66-4415-9995-2137ce3f0e09"
      },
      "execution_count": 7,
      "outputs": [
        {
          "output_type": "display_data",
          "data": {
            "text/plain": [
              "<Figure size 1000x800 with 5 Axes>"
            ],
            "image/png": "[encoded data removed]"
          },
          "metadata": {}
        }
      ]
    },
    {
      "cell_type": "code",
      "source": [
        "plt.imshow(x_train[0])"
      ],
      "metadata": {
        "colab": {
          "base_uri": "https://localhost:8080/",
          "height": 447
        },
        "id": "Q10JPcz8O00O",
        "outputId": "1fdd8219-62cf-4cc5-8918-1bcbde869377"
      },
      "execution_count": 8,
      "outputs": [
        {
          "output_type": "execute_result",
          "data": {
            "text/plain": [
              "<matplotlib.image.AxesImage at 0x7c881663e4d0>"
            ]
          },
          "metadata": {},
          "execution_count": 8
        },
        {
          "output_type": "display_data",
          "data": {
            "text/plain": [
              "<Figure size 640x480 with 1 Axes>"
            ],
            "image/png": "[encoded data removed]"
          },
          "metadata": {}
        }
      ]
    },
    {
      "cell_type": "code",
      "source": [
        "#Plot 6 images of each category and each images should be random everytime\n",
        "def plot_category_images(num=6):\n",
        "  for i in range(10):\n",
        "    labels = np.where(y_train== i)[0]  #collecting all indices of a category\n",
        "    labels = np.random.choice(labels,num)   #selecting 6(num) random indices\n",
        "    plt.figure(figsize=(10,15))  #Figure Size\n",
        "    for j in range(num):        #To plot all the 6(num) random images of a particular category\n",
        "      plt.subplot(i+1,num,j+1)    #Creating Subplot\n",
        "      plt.title(f\"{num} random images:\")   #Print : 6(num) random images\n",
        "      plt.imshow(x_train[labels[j]],cmap='gray')      #Plotting Image of that category with the given random index\n",
        "\n"
      ],
      "metadata": {
        "id": "cqD4AP76_-OI"
      },
      "execution_count": 9,
      "outputs": []
    },
    {
      "cell_type": "code",
      "source": [
        "plot_category_images(6)"
      ],
      "metadata": {
        "colab": {
          "base_uri": "https://localhost:8080/",
          "height": 673
        },
        "id": "pfnu7_aR2cb0",
        "outputId": "7dae72fd-4c36-4446-9de5-2ebcf10529fb"
      },
      "execution_count": 11,
      "outputs": [
        {
          "output_type": "error",
          "ename": "ValueError",
          "evalue": "ignored",
          "traceback": [
            "\u001b[0;31m---------------------------------------------------------------------------\u001b[0m",
            "\u001b[0;31mValueError\u001b[0m                                Traceback (most recent call last)",
            "\u001b[0;32m<ipython-input-11-83e39c62ae3d>\u001b[0m in \u001b[0;36m<cell line: 1>\u001b[0;34m()\u001b[0m\n\u001b[0;32m----> 1\u001b[0;31m \u001b[0mplot_category_images\u001b[0m\u001b[0;34m(\u001b[0m\u001b[0;36m6\u001b[0m\u001b[0;34m)\u001b[0m\u001b[0;34m\u001b[0m\u001b[0;34m\u001b[0m\u001b[0m\n\u001b[0m",
            "\u001b[0;32m<ipython-input-9-81497da17c7c>\u001b[0m in \u001b[0;36mplot_category_images\u001b[0;34m(num)\u001b[0m\n\u001b[1;32m      3\u001b[0m   \u001b[0;32mfor\u001b[0m \u001b[0mi\u001b[0m \u001b[0;32min\u001b[0m \u001b[0mrange\u001b[0m\u001b[0;34m(\u001b[0m\u001b[0;36m10\u001b[0m\u001b[0;34m)\u001b[0m\u001b[0;34m:\u001b[0m\u001b[0;34m\u001b[0m\u001b[0;34m\u001b[0m\u001b[0m\n\u001b[1;32m      4\u001b[0m     \u001b[0mlabels\u001b[0m \u001b[0;34m=\u001b[0m \u001b[0mnp\u001b[0m\u001b[0;34m.\u001b[0m\u001b[0mwhere\u001b[0m\u001b[0;34m(\u001b[0m\u001b[0my_train\u001b[0m\u001b[0;34m==\u001b[0m \u001b[0mi\u001b[0m\u001b[0;34m)\u001b[0m\u001b[0;34m[\u001b[0m\u001b[0;36m0\u001b[0m\u001b[0;34m]\u001b[0m  \u001b[0;31m#collecting all indices of a category\u001b[0m\u001b[0;34m\u001b[0m\u001b[0;34m\u001b[0m\u001b[0m\n\u001b[0;32m----> 5\u001b[0;31m     \u001b[0mlabels\u001b[0m \u001b[0;34m=\u001b[0m \u001b[0mnp\u001b[0m\u001b[0;34m.\u001b[0m\u001b[0mrandom\u001b[0m\u001b[0;34m.\u001b[0m\u001b[0mchoice\u001b[0m\u001b[0;34m(\u001b[0m\u001b[0mlabels\u001b[0m\u001b[0;34m,\u001b[0m\u001b[0mnum\u001b[0m\u001b[0;34m)\u001b[0m   \u001b[0;31m#selecting 6(num) random indices\u001b[0m\u001b[0;34m\u001b[0m\u001b[0;34m\u001b[0m\u001b[0m\n\u001b[0m\u001b[1;32m      6\u001b[0m     \u001b[0mplt\u001b[0m\u001b[0;34m.\u001b[0m\u001b[0mfigure\u001b[0m\u001b[0;34m(\u001b[0m\u001b[0mfigsize\u001b[0m\u001b[0;34m=\u001b[0m\u001b[0;34m(\u001b[0m\u001b[0;36m10\u001b[0m\u001b[0;34m,\u001b[0m\u001b[0;36m15\u001b[0m\u001b[0;34m)\u001b[0m\u001b[0;34m)\u001b[0m  \u001b[0;31m#Figure Size\u001b[0m\u001b[0;34m\u001b[0m\u001b[0;34m\u001b[0m\u001b[0m\n\u001b[1;32m      7\u001b[0m     \u001b[0;32mfor\u001b[0m \u001b[0mj\u001b[0m \u001b[0;32min\u001b[0m \u001b[0mrange\u001b[0m\u001b[0;34m(\u001b[0m\u001b[0mnum\u001b[0m\u001b[0;34m)\u001b[0m\u001b[0;34m:\u001b[0m        \u001b[0;31m#To plot all the 6(num) random images of a particular category\u001b[0m\u001b[0;34m\u001b[0m\u001b[0;34m\u001b[0m\u001b[0m\n",
            "\u001b[0;32mmtrand.pyx\u001b[0m in \u001b[0;36mnumpy.random.mtrand.RandomState.choice\u001b[0;34m()\u001b[0m\n",
            "\u001b[0;31mValueError\u001b[0m: 'a' cannot be empty unless no samples are taken"
          ]
        },
        {
          "output_type": "display_data",
          "data": {
            "text/plain": [
              "<Figure size 1000x1500 with 6 Axes>"
            ],
            "image/png": "[encoded data removed]"
          },
          "metadata": {}
        },
        {
          "output_type": "display_data",
          "data": {
            "text/plain": [
              "<Figure size 1000x1500 with 6 Axes>"
            ],
            "image/png": "[encoded data removed]"
          },
          "metadata": {}
        }
      ]
    },
    {
      "cell_type": "code",
      "source": [
        "#Pre-Processing\n",
        "#Input\n",
        "x_train=x_train/255.0\n",
        "#output\n",
        "y_train=pd.get_dummies(y_train)"
      ],
      "metadata": {
        "id": "PdZgqQZpu_2Y"
      },
      "execution_count": 10,
      "outputs": []
    },
    {
      "cell_type": "code",
      "source": [
        "x_train.shape , y_train.shape"
      ],
      "metadata": {
        "colab": {
          "base_uri": "https://localhost:8080/"
        },
        "id": "8LO_H0zDxVvJ",
        "outputId": "968c932f-74ff-4e21-ab90-84bb81ad257d"
      },
      "execution_count": 12,
      "outputs": [
        {
          "output_type": "execute_result",
          "data": {
            "text/plain": [
              "((60000, 28, 28), (60000, 10))"
            ]
          },
          "metadata": {},
          "execution_count": 12
        }
      ]
    },
    {
      "cell_type": "code",
      "source": [
        "#Model Creation\n",
        "model = tf.keras.models.Sequential()\n",
        "#Input\n",
        "model.add(tf.keras.layers.Input((28,28),name='Input_Layer'))\n",
        "#Flatten\n",
        "model.add(tf.keras.layers.Flatten(name='Flatten_Layer'))\n",
        "#HiddenLayers\n",
        "model.add(tf.keras.layers.Dense(units=256,activation=tf.keras.activations.relu,name='Hidden_Layer1'))\n",
        "#HiddenLayer2\n",
        "model.add(tf.keras.layers.Dense(units=64,activation=tf.keras.activations.relu,name='Hidden_Layer2'))   #units=16 so as to have a shallow model\n",
        "#Output\n",
        "model.add(tf.keras.layers.Dense(units=10,activation=tf.keras.activations.softmax,name='Output_Layer'))\n",
        "\n",
        "#Model Summary\n",
        "model.summary()"
      ],
      "metadata": {
        "id": "lwZYZycLxdMf",
        "colab": {
          "base_uri": "https://localhost:8080/"
        },
        "outputId": "604d1510-8362-4c8d-f7b2-16d2e92d8777"
      },
      "execution_count": 44,
      "outputs": [
        {
          "output_type": "stream",
          "name": "stdout",
          "text": [
            "Model: \"sequential_4\"\n",
            "_________________________________________________________________\n",
            " Layer (type)                Output Shape              Param #   \n",
            "=================================================================\n",
            " Flatten_Layer (Flatten)     (None, 784)               0         \n",
            "                                                                 \n",
            " Hidden_Layer1 (Dense)       (None, 256)               200960    \n",
            "                                                                 \n",
            " Hidden_Layer2 (Dense)       (None, 64)                16448     \n",
            "                                                                 \n",
            " Output_Layer (Dense)        (None, 10)                650       \n",
            "                                                                 \n",
            "=================================================================\n",
            "Total params: 218,058\n",
            "Trainable params: 218,058\n",
            "Non-trainable params: 0\n",
            "_________________________________________________________________\n"
          ]
        }
      ]
    },
    {
      "cell_type": "code",
      "source": [
        "#params calculation\n",
        "print('H1:',784*128+128)\n",
        "print('H2:',128*16+16)\n",
        "print('OP:',16*10+10)\n",
        "print('Total Parameters : ',784*128+128 + 128*16+16 + 16*10+10)"
      ],
      "metadata": {
        "colab": {
          "base_uri": "https://localhost:8080/"
        },
        "id": "HXA9MWGOEbzB",
        "outputId": "6947ca34-a2ed-4a77-a7c1-3c4c120c0da5"
      },
      "execution_count": 14,
      "outputs": [
        {
          "output_type": "stream",
          "name": "stdout",
          "text": [
            "H1: 100480\n",
            "H2: 2064\n",
            "OP: 170\n",
            "Total Parameters :  102714\n"
          ]
        }
      ]
    },
    {
      "cell_type": "code",
      "source": [
        "#Compiling Model:\n",
        "model.compile(optimizer=tf.keras.optimizers.SGD(learning_rate=0.05),\n",
        "              loss=tf.keras.losses.categorical_crossentropy,\n",
        "              metrics=['acc'])"
      ],
      "metadata": {
        "id": "RfDG4QJaFBLO"
      },
      "execution_count": 45,
      "outputs": []
    },
    {
      "cell_type": "code",
      "source": [
        "#Fiting Model\n",
        "model.fit(x_train,y_train,epochs=50,batch_size=64,validation_split=0.1)"
      ],
      "metadata": {
        "colab": {
          "base_uri": "https://localhost:8080/"
        },
        "id": "JxNYYhcMGzZv",
        "outputId": "70a8dc78-a811-43c7-9bbd-67db4ab6b7ed"
      },
      "execution_count": 46,
      "outputs": [
        {
          "output_type": "stream",
          "name": "stdout",
          "text": [
            "Epoch 1/50\n",
            "844/844 [==============================] - 5s 5ms/step - loss: 0.6262 - acc: 0.7842 - val_loss: 0.4538 - val_acc: 0.8372\n",
            "Epoch 2/50\n",
            "844/844 [==============================] - 4s 5ms/step - loss: 0.4404 - acc: 0.8419 - val_loss: 0.4525 - val_acc: 0.8313\n",
            "Epoch 3/50\n",
            "844/844 [==============================] - 5s 6ms/step - loss: 0.3943 - acc: 0.8595 - val_loss: 0.4032 - val_acc: 0.8547\n",
            "Epoch 4/50\n",
            "844/844 [==============================] - 4s 5ms/step - loss: 0.3650 - acc: 0.8689 - val_loss: 0.3774 - val_acc: 0.8605\n",
            "Epoch 5/50\n",
            "844/844 [==============================] - 4s 5ms/step - loss: 0.3450 - acc: 0.8759 - val_loss: 0.3953 - val_acc: 0.8563\n",
            "Epoch 6/50\n",
            "844/844 [==============================] - 5s 6ms/step - loss: 0.3301 - acc: 0.8797 - val_loss: 0.3828 - val_acc: 0.8603\n",
            "Epoch 7/50\n",
            "844/844 [==============================] - 4s 5ms/step - loss: 0.3150 - acc: 0.8850 - val_loss: 0.3357 - val_acc: 0.8795\n",
            "Epoch 8/50\n",
            "844/844 [==============================] - 4s 5ms/step - loss: 0.3031 - acc: 0.8893 - val_loss: 0.3520 - val_acc: 0.8732\n",
            "Epoch 9/50\n",
            "844/844 [==============================] - 5s 6ms/step - loss: 0.2933 - acc: 0.8925 - val_loss: 0.3389 - val_acc: 0.8762\n",
            "Epoch 10/50\n",
            "844/844 [==============================] - 4s 5ms/step - loss: 0.2822 - acc: 0.8963 - val_loss: 0.3149 - val_acc: 0.8832\n",
            "Epoch 11/50\n",
            "844/844 [==============================] - 4s 5ms/step - loss: 0.2742 - acc: 0.8988 - val_loss: 0.3605 - val_acc: 0.8643\n",
            "Epoch 12/50\n",
            "844/844 [==============================] - 5s 6ms/step - loss: 0.2651 - acc: 0.9027 - val_loss: 0.3429 - val_acc: 0.8727\n",
            "Epoch 13/50\n",
            "844/844 [==============================] - 4s 5ms/step - loss: 0.2594 - acc: 0.9039 - val_loss: 0.3200 - val_acc: 0.8832\n",
            "Epoch 14/50\n",
            "844/844 [==============================] - 4s 5ms/step - loss: 0.2518 - acc: 0.9074 - val_loss: 0.3208 - val_acc: 0.8827\n",
            "Epoch 15/50\n",
            "844/844 [==============================] - 5s 6ms/step - loss: 0.2462 - acc: 0.9087 - val_loss: 0.3364 - val_acc: 0.8730\n",
            "Epoch 16/50\n",
            "844/844 [==============================] - 4s 5ms/step - loss: 0.2389 - acc: 0.9116 - val_loss: 0.3239 - val_acc: 0.8833\n",
            "Epoch 17/50\n",
            "844/844 [==============================] - 5s 6ms/step - loss: 0.2327 - acc: 0.9134 - val_loss: 0.3280 - val_acc: 0.8820\n",
            "Epoch 18/50\n",
            "844/844 [==============================] - 4s 5ms/step - loss: 0.2269 - acc: 0.9174 - val_loss: 0.3317 - val_acc: 0.8790\n",
            "Epoch 19/50\n",
            "844/844 [==============================] - 4s 5ms/step - loss: 0.2217 - acc: 0.9179 - val_loss: 0.3036 - val_acc: 0.8922\n",
            "Epoch 20/50\n",
            "844/844 [==============================] - 5s 6ms/step - loss: 0.2156 - acc: 0.9214 - val_loss: 0.3149 - val_acc: 0.8875\n",
            "Epoch 21/50\n",
            "844/844 [==============================] - 4s 5ms/step - loss: 0.2122 - acc: 0.9208 - val_loss: 0.3143 - val_acc: 0.8902\n",
            "Epoch 22/50\n",
            "844/844 [==============================] - 4s 5ms/step - loss: 0.2066 - acc: 0.9229 - val_loss: 0.3084 - val_acc: 0.8905\n",
            "Epoch 23/50\n",
            "844/844 [==============================] - 5s 6ms/step - loss: 0.2022 - acc: 0.9246 - val_loss: 0.3424 - val_acc: 0.8848\n",
            "Epoch 24/50\n",
            "844/844 [==============================] - 4s 5ms/step - loss: 0.1972 - acc: 0.9275 - val_loss: 0.3317 - val_acc: 0.8780\n",
            "Epoch 25/50\n",
            "844/844 [==============================] - 4s 5ms/step - loss: 0.1918 - acc: 0.9297 - val_loss: 0.3232 - val_acc: 0.8855\n",
            "Epoch 26/50\n",
            "844/844 [==============================] - 5s 6ms/step - loss: 0.1886 - acc: 0.9308 - val_loss: 0.3417 - val_acc: 0.8798\n",
            "Epoch 27/50\n",
            "844/844 [==============================] - 4s 5ms/step - loss: 0.1847 - acc: 0.9315 - val_loss: 0.3239 - val_acc: 0.8848\n",
            "Epoch 28/50\n",
            "844/844 [==============================] - 4s 5ms/step - loss: 0.1814 - acc: 0.9336 - val_loss: 0.3381 - val_acc: 0.8840\n",
            "Epoch 29/50\n",
            "844/844 [==============================] - 5s 6ms/step - loss: 0.1763 - acc: 0.9353 - val_loss: 0.3187 - val_acc: 0.8937\n",
            "Epoch 30/50\n",
            "844/844 [==============================] - 4s 5ms/step - loss: 0.1738 - acc: 0.9368 - val_loss: 0.3266 - val_acc: 0.8872\n",
            "Epoch 31/50\n",
            "844/844 [==============================] - 4s 5ms/step - loss: 0.1704 - acc: 0.9377 - val_loss: 0.3226 - val_acc: 0.8910\n",
            "Epoch 32/50\n",
            "844/844 [==============================] - 5s 6ms/step - loss: 0.1657 - acc: 0.9392 - val_loss: 0.3281 - val_acc: 0.8898\n",
            "Epoch 33/50\n",
            "844/844 [==============================] - 4s 5ms/step - loss: 0.1617 - acc: 0.9415 - val_loss: 0.3090 - val_acc: 0.8952\n",
            "Epoch 34/50\n",
            "844/844 [==============================] - 4s 5ms/step - loss: 0.1580 - acc: 0.9425 - val_loss: 0.3410 - val_acc: 0.8868\n",
            "Epoch 35/50\n",
            "844/844 [==============================] - 5s 6ms/step - loss: 0.1553 - acc: 0.9432 - val_loss: 0.3239 - val_acc: 0.8933\n",
            "Epoch 36/50\n",
            "844/844 [==============================] - 4s 5ms/step - loss: 0.1515 - acc: 0.9448 - val_loss: 0.3284 - val_acc: 0.8913\n",
            "Epoch 37/50\n",
            "844/844 [==============================] - 5s 5ms/step - loss: 0.1492 - acc: 0.9444 - val_loss: 0.3609 - val_acc: 0.8800\n",
            "Epoch 38/50\n",
            "844/844 [==============================] - 6s 7ms/step - loss: 0.1469 - acc: 0.9460 - val_loss: 0.3234 - val_acc: 0.8913\n",
            "Epoch 39/50\n",
            "844/844 [==============================] - 4s 5ms/step - loss: 0.1419 - acc: 0.9485 - val_loss: 0.3235 - val_acc: 0.8938\n",
            "Epoch 40/50\n",
            "844/844 [==============================] - 5s 6ms/step - loss: 0.1388 - acc: 0.9498 - val_loss: 0.3233 - val_acc: 0.8972\n",
            "Epoch 41/50\n",
            "844/844 [==============================] - 4s 5ms/step - loss: 0.1378 - acc: 0.9481 - val_loss: 0.3445 - val_acc: 0.8897\n",
            "Epoch 42/50\n",
            "844/844 [==============================] - 4s 5ms/step - loss: 0.1353 - acc: 0.9507 - val_loss: 0.3460 - val_acc: 0.8905\n",
            "Epoch 43/50\n",
            "844/844 [==============================] - 5s 6ms/step - loss: 0.1298 - acc: 0.9526 - val_loss: 0.3418 - val_acc: 0.8948\n",
            "Epoch 44/50\n",
            "844/844 [==============================] - 4s 5ms/step - loss: 0.1269 - acc: 0.9553 - val_loss: 0.3656 - val_acc: 0.8877\n",
            "Epoch 45/50\n",
            "844/844 [==============================] - 4s 5ms/step - loss: 0.1266 - acc: 0.9534 - val_loss: 0.3481 - val_acc: 0.8907\n",
            "Epoch 46/50\n",
            "844/844 [==============================] - 5s 6ms/step - loss: 0.1250 - acc: 0.9536 - val_loss: 0.3591 - val_acc: 0.8912\n",
            "Epoch 47/50\n",
            "844/844 [==============================] - 4s 5ms/step - loss: 0.1229 - acc: 0.9553 - val_loss: 0.3448 - val_acc: 0.8957\n",
            "Epoch 48/50\n",
            "844/844 [==============================] - 5s 5ms/step - loss: 0.1192 - acc: 0.9566 - val_loss: 0.3772 - val_acc: 0.8847\n",
            "Epoch 49/50\n",
            "844/844 [==============================] - 5s 6ms/step - loss: 0.1148 - acc: 0.9585 - val_loss: 0.3506 - val_acc: 0.8925\n",
            "Epoch 50/50\n",
            "844/844 [==============================] - 4s 5ms/step - loss: 0.1126 - acc: 0.9593 - val_loss: 0.3556 - val_acc: 0.8933\n"
          ]
        },
        {
          "output_type": "execute_result",
          "data": {
            "text/plain": [
              "<keras.callbacks.History at 0x7c87fd4ccc40>"
            ]
          },
          "metadata": {},
          "execution_count": 46
        }
      ]
    },
    {
      "cell_type": "code",
      "source": [
        "del model"
      ],
      "metadata": {
        "id": "i9in0MIbIgvi"
      },
      "execution_count": 43,
      "outputs": []
    },
    {
      "cell_type": "code",
      "source": [
        "#Saving Model\n",
        "model.save(\"Fashion_MNIST_Model\")"
      ],
      "metadata": {
        "id": "rmyA9aapI4YU",
        "colab": {
          "base_uri": "https://localhost:8080/"
        },
        "outputId": "3145403a-0127-41a7-f3ce-2b49cc157431"
      },
      "execution_count": null,
      "outputs": [
        {
          "output_type": "stream",
          "name": "stderr",
          "text": [
            "WARNING:absl:Function `_wrapped_model` contains input name(s) Input_Layer with unsupported characters which will be renamed to input_layer in the SavedModel.\n",
            "WARNING:absl:Found untraced functions such as _update_step_xla while saving (showing 1 of 1). These functions will not be directly callable after loading.\n"
          ]
        }
      ]
    },
    {
      "cell_type": "code",
      "source": [
        "#Plots Model\n",
        "tf.keras.utils.plot_model(model,show_shapes=True,show_layer_activations=True) #show layers wont work here read documentation"
      ],
      "metadata": {
        "id": "-7S4FzQH2w_u",
        "colab": {
          "base_uri": "https://localhost:8080/",
          "height": 533
        },
        "outputId": "845d0d52-1584-4323-cad5-d2478f4c9fed"
      },
      "execution_count": 33,
      "outputs": [
        {
          "output_type": "execute_result",
          "data": {
            "image/png": "[encoded data removed]",
            "text/plain": [
              "<IPython.core.display.Image object>"
            ]
          },
          "metadata": {},
          "execution_count": 33
        }
      ]
    },
    {
      "cell_type": "code",
      "source": [
        "#Getting Weights\n",
        "model.get_weights()"
      ],
      "metadata": {
        "id": "RBFHd5u3kljO"
      },
      "execution_count": null,
      "outputs": []
    },
    {
      "cell_type": "code",
      "source": [
        "model.to_json()\n",
        "#json viewer :https://codebeautify.org/jsonviewer"
      ],
      "metadata": {
        "colab": {
          "base_uri": "https://localhost:8080/",
          "height": 140
        },
        "id": "Kau26RfOmdGW",
        "outputId": "8d601c62-808b-4be2-c126-16a228112413"
      },
      "execution_count": 26,
      "outputs": [
        {
          "output_type": "execute_result",
          "data": {
            "text/plain": [
              "'{\"class_name\": \"Sequential\", \"config\": {\"name\": \"sequential\", \"layers\": [{\"class_name\": \"InputLayer\", \"config\": {\"batch_input_shape\": [null, 28, 28], \"dtype\": \"float32\", \"sparse\": false, \"ragged\": false, \"name\": \"Input_Layer\"}}, {\"class_name\": \"Flatten\", \"config\": {\"name\": \"Flatten_Layer\", \"trainable\": true, \"dtype\": \"float32\", \"data_format\": \"channels_last\"}}, {\"class_name\": \"Dense\", \"config\": {\"name\": \"Hidden_Layer1\", \"trainable\": true, \"dtype\": \"float32\", \"units\": 128, \"activation\": \"relu\", \"use_bias\": true, \"kernel_initializer\": {\"class_name\": \"GlorotUniform\", \"config\": {\"seed\": null}}, \"bias_initializer\": {\"class_name\": \"Zeros\", \"config\": {}}, \"kernel_regularizer\": null, \"bias_regularizer\": null, \"activity_regularizer\": null, \"kernel_constraint\": null, \"bias_constraint\": null}}, {\"class_name\": \"Dense\", \"config\": {\"name\": \"Hidden_Layer2\", \"trainable\": true, \"dtype\": \"float32\", \"units\": 16, \"activation\": \"relu\", \"use_bias\": true, \"kernel_initializer\": {\"class_name\": \"GlorotUniform\", \"config\": {\"seed\": null}}, \"bias_initializer\": {\"class_name\": \"Zeros\", \"config\": {}}, \"kernel_regularizer\": null, \"bias_regularizer\": null, \"activity_regularizer\": null, \"kernel_constraint\": null, \"bias_constraint\": null}}, {\"class_name\": \"Dense\", \"config\": {\"name\": \"Output_Layer\", \"trainable\": true, \"dtype\": \"float32\", \"units\": 10, \"activation\": \"softmax\", \"use_bias\": true, \"kernel_initializer\": {\"class_name\": \"GlorotUniform\", \"config\": {\"seed\": null}}, \"bias_initializer\": {\"class_name\": \"Zeros\", \"config\": {}}, \"kernel_regularizer\": null, \"bias_regularizer\": null, \"activity_regularizer\": null, \"kernel_constraint\": null, \"bias_constraint\": null}}]}, \"keras_version\": \"2.12.0\", \"backend\": \"tensorflow\"}'"
            ],
            "application/vnd.google.colaboratory.intrinsic+json": {
              "type": "string"
            }
          },
          "metadata": {},
          "execution_count": 26
        }
      ]
    },
    {
      "cell_type": "code",
      "source": [
        "model.input_shape"
      ],
      "metadata": {
        "colab": {
          "base_uri": "https://localhost:8080/"
        },
        "id": "QEWGzOVHmlIs",
        "outputId": "9e3fad21-e087-4b53-f2aa-63411342a69d"
      },
      "execution_count": null,
      "outputs": [
        {
          "output_type": "execute_result",
          "data": {
            "text/plain": [
              "(None, 28, 28)"
            ]
          },
          "metadata": {},
          "execution_count": 23
        }
      ]
    },
    {
      "cell_type": "code",
      "source": [
        "#model.predict()"
      ],
      "metadata": {
        "id": "yU0QxxMxtn1Q"
      },
      "execution_count": null,
      "outputs": []
    },
    {
      "cell_type": "code",
      "source": [
        "test_image = x_test[0]\n",
        "plt.imshow(test_image, cmap=\"gray\")\n",
        "plt.title(label_encoder[y_test[0]])"
      ],
      "metadata": {
        "colab": {
          "base_uri": "https://localhost:8080/",
          "height": 469
        },
        "id": "8OUHN5ruA6ey",
        "outputId": "72c766c6-6fdb-494d-8a7e-d8d6a48a4917"
      },
      "execution_count": 68,
      "outputs": [
        {
          "output_type": "execute_result",
          "data": {
            "text/plain": [
              "Text(0.5, 1.0, 'Ankle boot')"
            ]
          },
          "metadata": {},
          "execution_count": 68
        },
        {
          "output_type": "display_data",
          "data": {
            "text/plain": [
              "<Figure size 640x480 with 1 Axes>"
            ],
            "image/png": "[encoded data removed]"
          },
          "metadata": {}
        }
      ]
    },
    {
      "cell_type": "code",
      "source": [
        "# Read image\n",
        "test_image = x_test[0]\n",
        "# Normalize the image\n",
        "test_image = test_image/255.0\n",
        "# Need to introduce a new dimention\n",
        "print(f\"Before np.expand, {test_image.shape}\")\n",
        "test_image = np.expand_dims(test_image, axis=0)\n",
        "print(f\"After np.expand, {test_image.shape}\")"
      ],
      "metadata": {
        "colab": {
          "base_uri": "https://localhost:8080/"
        },
        "id": "CtNyKFXBCXhQ",
        "outputId": "fcfe4379-d7f0-49ac-877f-59941fba6959"
      },
      "execution_count": 88,
      "outputs": [
        {
          "output_type": "stream",
          "name": "stdout",
          "text": [
            "Before np.expand, (28, 28)\n",
            "After np.expand, (1, 28, 28)\n"
          ]
        }
      ]
    },
    {
      "cell_type": "code",
      "source": [
        "result = model.predict(test_image)\n",
        "result"
      ],
      "metadata": {
        "colab": {
          "base_uri": "https://localhost:8080/"
        },
        "id": "o12HhSXeCacu",
        "outputId": "6f437c67-2bba-4f0f-b2e9-8bf7384089ca"
      },
      "execution_count": 89,
      "outputs": [
        {
          "output_type": "stream",
          "name": "stdout",
          "text": [
            "1/1 [==============================] - 0s 77ms/step\n"
          ]
        },
        {
          "output_type": "execute_result",
          "data": {
            "text/plain": [
              "array([[2.9298306e-05, 9.2556796e-08, 6.1960336e-06, 4.1107178e-06,\n",
              "        9.3253607e-07, 8.4623545e-02, 1.5222202e-05, 1.2722455e-01,\n",
              "        2.1108424e-03, 7.8598523e-01]], dtype=float32)"
            ]
          },
          "metadata": {},
          "execution_count": 89
        }
      ]
    },
    {
      "cell_type": "code",
      "source": [
        "print(f\"Prob: {np.max(result)}\")\n",
        "print(f\"Index: {np.argmax(result)}\")"
      ],
      "metadata": {
        "colab": {
          "base_uri": "https://localhost:8080/"
        },
        "id": "6u58OhDRCdQz",
        "outputId": "79efaf1e-4558-43ad-ba56-fa23ec46a47e"
      },
      "execution_count": 90,
      "outputs": [
        {
          "output_type": "stream",
          "name": "stdout",
          "text": [
            "Prob: 0.7859852313995361\n",
            "Index: 9\n"
          ]
        }
      ]
    },
    {
      "cell_type": "code",
      "source": [
        "label_encoder[9]"
      ],
      "metadata": {
        "colab": {
          "base_uri": "https://localhost:8080/",
          "height": 35
        },
        "id": "2E3D0d8dCg85",
        "outputId": "8820ec10-891c-489f-b155-313e828f5ea5"
      },
      "execution_count": 31,
      "outputs": [
        {
          "output_type": "execute_result",
          "data": {
            "text/plain": [
              "'Ankle boot'"
            ],
            "application/vnd.google.colaboratory.intrinsic+json": {
              "type": "string"
            }
          },
          "metadata": {},
          "execution_count": 31
        }
      ]
    },
    {
      "cell_type": "code",
      "source": [
        "def predict(image):\n",
        "  plt.imshow(image, cmap=\"gray\")\n",
        "  image = image/255.0\n",
        "  image = np.expand_dims(image, axis=0)\n",
        "  result = model.predict(image)\n",
        "  prob = np.max(result)\n",
        "  result = np.argmax(result)\n",
        "  plt.title(label_encoder[result])\n",
        "  return label_encoder[result], prob"
      ],
      "metadata": {
        "id": "xbc1c6ZRC1H0"
      },
      "execution_count": 72,
      "outputs": []
    },
    {
      "cell_type": "code",
      "source": [
        "predict(x_test[4000])"
      ],
      "metadata": {
        "colab": {
          "base_uri": "https://localhost:8080/",
          "height": 487
        },
        "id": "RLzBXdm1C7OK",
        "outputId": "23007542-af5e-41a7-bcec-274f10e98abb"
      },
      "execution_count": 73,
      "outputs": [
        {
          "output_type": "stream",
          "name": "stdout",
          "text": [
            "1/1 [==============================] - 0s 25ms/step\n"
          ]
        },
        {
          "output_type": "execute_result",
          "data": {
            "text/plain": [
              "('T-shirt/top', 0.79294926)"
            ]
          },
          "metadata": {},
          "execution_count": 73
        },
        {
          "output_type": "display_data",
          "data": {
            "text/plain": [
              "<Figure size 640x480 with 1 Axes>"
            ],
            "image/png": "[encoded data removed]"
          },
          "metadata": {}
        }
      ]
    },
    {
      "cell_type": "code",
      "source": [
        "test_5_images = x_test[0:5]"
      ],
      "metadata": {
        "id": "GYQr9ibfC_3y"
      },
      "execution_count": 34,
      "outputs": []
    },
    {
      "cell_type": "code",
      "source": [
        "for i in range(5):\n",
        "  plt.subplot(1,5,i+1)\n",
        "  plt.imshow(test_5_images[i],cmap='gray')"
      ],
      "metadata": {
        "colab": {
          "base_uri": "https://localhost:8080/",
          "height": 150
        },
        "id": "hyaGVDe5FIAH",
        "outputId": "8455a634-985a-4ff9-cfc6-9ab7bb831b99"
      },
      "execution_count": 35,
      "outputs": [
        {
          "output_type": "display_data",
          "data": {
            "text/plain": [
              "<Figure size 640x480 with 5 Axes>"
            ],
            "image/png": "[encoded data removed]"
          },
          "metadata": {}
        }
      ]
    },
    {
      "cell_type": "code",
      "source": [
        "test_5_images = x_test[0:5]\n",
        "test_5_images = test_5_images/255.0\n",
        "print(test_5_images.shape)"
      ],
      "metadata": {
        "colab": {
          "base_uri": "https://localhost:8080/"
        },
        "id": "08jigaJjFQZo",
        "outputId": "53afe92b-311e-4fe2-cf45-771b5df41aa8"
      },
      "execution_count": 36,
      "outputs": [
        {
          "output_type": "stream",
          "name": "stdout",
          "text": [
            "(5, 28, 28)\n"
          ]
        }
      ]
    },
    {
      "cell_type": "code",
      "source": [
        "result = model.predict(test_5_images)\n",
        "result"
      ],
      "metadata": {
        "colab": {
          "base_uri": "https://localhost:8080/"
        },
        "id": "u4QetL3pGlz9",
        "outputId": "d9c12dbd-9118-439e-ee0f-b05eeff5e28e"
      },
      "execution_count": 37,
      "outputs": [
        {
          "output_type": "stream",
          "name": "stdout",
          "text": [
            "1/1 [==============================] - 0s 34ms/step\n"
          ]
        },
        {
          "output_type": "execute_result",
          "data": {
            "text/plain": [
              "array([[3.50267169e-06, 2.04929802e-06, 3.92877791e-06, 1.31945671e-06,\n",
              "        8.14411942e-06, 6.28207177e-02, 3.91949698e-06, 2.05638990e-01,\n",
              "        2.99205119e-03, 7.28525341e-01],\n",
              "       [7.22009223e-04, 1.01565138e-05, 8.76553476e-01, 9.47221779e-05,\n",
              "        8.51729698e-03, 4.78990714e-08, 1.13962345e-01, 2.31942476e-13,\n",
              "        1.40068296e-04, 1.15909561e-12],\n",
              "       [9.88787724e-06, 9.99978423e-01, 4.23966367e-06, 4.99864700e-06,\n",
              "        2.32798106e-06, 1.76252530e-14, 4.95203807e-08, 2.99989331e-08,\n",
              "        9.45851113e-08, 2.89266500e-09],\n",
              "       [1.43083471e-05, 9.99865890e-01, 4.66423298e-05, 6.08315568e-05,\n",
              "        1.08196409e-05, 1.65634815e-11, 2.71817214e-07, 7.81003962e-07,\n",
              "        2.50652249e-07, 2.23844822e-07],\n",
              "       [1.21549539e-01, 9.69271874e-04, 5.56358770e-02, 9.12541803e-03,\n",
              "        9.76097863e-03, 1.19425658e-05, 7.98526525e-01, 1.80292957e-07,\n",
              "        4.42015799e-03, 1.92644819e-07]], dtype=float32)"
            ]
          },
          "metadata": {},
          "execution_count": 37
        }
      ]
    },
    {
      "cell_type": "code",
      "source": [
        "np.argmax(result,axis=1)"
      ],
      "metadata": {
        "colab": {
          "base_uri": "https://localhost:8080/"
        },
        "id": "WV_257M0GuI2",
        "outputId": "b159a678-10cf-400f-bd86-451b39a1776d"
      },
      "execution_count": 38,
      "outputs": [
        {
          "output_type": "execute_result",
          "data": {
            "text/plain": [
              "array([9, 2, 1, 1, 6])"
            ]
          },
          "metadata": {},
          "execution_count": 38
        }
      ]
    },
    {
      "cell_type": "code",
      "source": [
        "y_test[0:5]"
      ],
      "metadata": {
        "colab": {
          "base_uri": "https://localhost:8080/"
        },
        "id": "wArtsUEhG2OL",
        "outputId": "e64c78f5-c380-400f-8129-1934f26d7393"
      },
      "execution_count": 39,
      "outputs": [
        {
          "output_type": "execute_result",
          "data": {
            "text/plain": [
              "array([9, 2, 1, 1, 6], dtype=uint8)"
            ]
          },
          "metadata": {},
          "execution_count": 39
        }
      ]
    },
    {
      "cell_type": "code",
      "source": [
        "x_test_norm = x_test/255.0"
      ],
      "metadata": {
        "id": "HR64vo07ILrY"
      },
      "execution_count": 47,
      "outputs": []
    },
    {
      "cell_type": "code",
      "source": [
        "y_pred =np.argmax(model.predict(x_test_norm),axis=1)"
      ],
      "metadata": {
        "colab": {
          "base_uri": "https://localhost:8080/"
        },
        "id": "-R9uDo3PIfcw",
        "outputId": "19f6b50b-009f-4e72-b8df-d9db40f2e2fc"
      },
      "execution_count": 48,
      "outputs": [
        {
          "output_type": "stream",
          "name": "stdout",
          "text": [
            "313/313 [==============================] - 1s 2ms/step\n"
          ]
        }
      ]
    },
    {
      "cell_type": "code",
      "source": [
        "y_test"
      ],
      "metadata": {
        "colab": {
          "base_uri": "https://localhost:8080/"
        },
        "id": "WmxX338AJIOy",
        "outputId": "35f78e73-13be-4718-9289-cb2258094613"
      },
      "execution_count": 42,
      "outputs": [
        {
          "output_type": "execute_result",
          "data": {
            "text/plain": [
              "array([9, 2, 1, ..., 8, 1, 5], dtype=uint8)"
            ]
          },
          "metadata": {},
          "execution_count": 42
        }
      ]
    },
    {
      "cell_type": "code",
      "source": [
        "(y_test==y_pred).sum()"
      ],
      "metadata": {
        "colab": {
          "base_uri": "https://localhost:8080/"
        },
        "id": "RWqlj_7NJMR-",
        "outputId": "b49d701c-114e-459b-fbed-f58b06b3aa77"
      },
      "execution_count": 49,
      "outputs": [
        {
          "output_type": "execute_result",
          "data": {
            "text/plain": [
              "8898"
            ]
          },
          "metadata": {},
          "execution_count": 49
        }
      ]
    },
    {
      "cell_type": "code",
      "source": [
        "#Which Images failed\n",
        "np.where(y_pred!= y_test) #Gives Indices"
      ],
      "metadata": {
        "colab": {
          "base_uri": "https://localhost:8080/"
        },
        "id": "I1uG6fh8JTj2",
        "outputId": "e0c3f357-5963-4cde-9eae-dc6598706a7e"
      },
      "execution_count": 44,
      "outputs": [
        {
          "output_type": "execute_result",
          "data": {
            "text/plain": [
              "(array([  12,   17,   20, ..., 9979, 9985, 9989]),)"
            ]
          },
          "metadata": {},
          "execution_count": 44
        }
      ]
    },
    {
      "cell_type": "code",
      "source": [
        "index= 9979\n",
        "print(f\"Actual Label :{label_encoder[y_test[index]]}\")\n",
        "print(f\"Predicted Label :{label_encoder[y_pred[index]]}\")\n",
        "plt.imshow(x_test[index],cmap='gray')"
      ],
      "metadata": {
        "colab": {
          "base_uri": "https://localhost:8080/",
          "height": 482
        },
        "id": "b5DEq4D2KJq0",
        "outputId": "5fec6296-41e9-43bd-a200-fe434aa28a24"
      },
      "execution_count": 45,
      "outputs": [
        {
          "output_type": "stream",
          "name": "stdout",
          "text": [
            "Actual Label :Shirt\n",
            "Predicted Label :T-shirt/top\n"
          ]
        },
        {
          "output_type": "execute_result",
          "data": {
            "text/plain": [
              "<matplotlib.image.AxesImage at 0x7ebf47c41420>"
            ]
          },
          "metadata": {},
          "execution_count": 45
        },
        {
          "output_type": "display_data",
          "data": {
            "text/plain": [
              "<Figure size 640x480 with 1 Axes>"
            ],
            "image/png": "[encoded data removed]"
          },
          "metadata": {}
        }
      ]
    },
    {
      "cell_type": "code",
      "source": [
        "import sklearn\n",
        "from sklearn.metrics import confusion_matrix,ConfusionMatrixDisplay"
      ],
      "metadata": {
        "id": "C_Xde3iCKp8N"
      },
      "execution_count": 50,
      "outputs": []
    },
    {
      "cell_type": "code",
      "source": [
        "type(label_encoder)"
      ],
      "metadata": {
        "colab": {
          "base_uri": "https://localhost:8080/"
        },
        "id": "F_VzavygRMtg",
        "outputId": "fefbff55-bf55-43f1-bada-155a32cbfdab"
      },
      "execution_count": 47,
      "outputs": [
        {
          "output_type": "execute_result",
          "data": {
            "text/plain": [
              "dict"
            ]
          },
          "metadata": {},
          "execution_count": 47
        }
      ]
    },
    {
      "cell_type": "code",
      "source": [
        "cm=confusion_matrix(y_test,y_pred)\n",
        "pd.DataFrame(cm)"
      ],
      "metadata": {
        "colab": {
          "base_uri": "https://localhost:8080/",
          "height": 363
        },
        "id": "3IvKfhOiMs3_",
        "outputId": "41a4e6a6-78f3-446a-d3cf-8bbbaf0394da"
      },
      "execution_count": 51,
      "outputs": [
        {
          "output_type": "execute_result",
          "data": {
            "text/plain": [
              "     0    1    2    3    4    5    6    7    8    9\n",
              "0  876    3   13   19    3    1   78    0    7    0\n",
              "1    2  983    1    9    3    0    2    0    0    0\n",
              "2   28    4  861   12   51    2   38    0    4    0\n",
              "3   21   13   11  892   35    1   21    0    5    1\n",
              "4    4    3  123   25  788    0   54    0    3    0\n",
              "5    1    0    0    1    0  936    0   35    2   25\n",
              "6  141    0  102   23   53    1  663    0   17    0\n",
              "7    0    0    0    0    0    8    0  974    0   18\n",
              "8   12    0    7    2    1    1    3    5  968    1\n",
              "9    0    0    0    0    0    6    1   36    0  957"
            ],
            "text/html": [
              "\n",
              "\n",
              "  <div id=\"df-56c9e2e0-ae5f-410a-b0f8-0bd4c44fbd99\">\n",
              "    <div class=\"colab-df-container\">\n",
              "      <div>\n",
              "<style scoped>\n",
              "    .dataframe tbody tr th:only-of-type {\n",
              "        vertical-align: middle;\n",
              "    }\n",
              "\n",
              "    .dataframe tbody tr th {\n",
              "        vertical-align: top;\n",
              "    }\n",
              "\n",
              "    .dataframe thead th {\n",
              "        text-align: right;\n",
              "    }\n",
              "</style>\n",
              "<table border=\"1\" class=\"dataframe\">\n",
              "  <thead>\n",
              "    <tr style=\"text-align: right;\">\n",
              "      <th></th>\n",
              "      <th>0</th>\n",
              "      <th>1</th>\n",
              "      <th>2</th>\n",
              "      <th>3</th>\n",
              "      <th>4</th>\n",
              "      <th>5</th>\n",
              "      <th>6</th>\n",
              "      <th>7</th>\n",
              "      <th>8</th>\n",
              "      <th>9</th>\n",
              "    </tr>\n",
              "  </thead>\n",
              "  <tbody>\n",
              "    <tr>\n",
              "      <th>0</th>\n",
              "      <td>876</td>\n",
              "      <td>3</td>\n",
              "      <td>13</td>\n",
              "      <td>19</td>\n",
              "      <td>3</td>\n",
              "      <td>1</td>\n",
              "      <td>78</td>\n",
              "      <td>0</td>\n",
              "      <td>7</td>\n",
              "      <td>0</td>\n",
              "    </tr>\n",
              "    <tr>\n",
              "      <th>1</th>\n",
              "      <td>2</td>\n",
              "      <td>983</td>\n",
              "      <td>1</td>\n",
              "      <td>9</td>\n",
              "      <td>3</td>\n",
              "      <td>0</td>\n",
              "      <td>2</td>\n",
              "      <td>0</td>\n",
              "      <td>0</td>\n",
              "      <td>0</td>\n",
              "    </tr>\n",
              "    <tr>\n",
              "      <th>2</th>\n",
              "      <td>28</td>\n",
              "      <td>4</td>\n",
              "      <td>861</td>\n",
              "      <td>12</td>\n",
              "      <td>51</td>\n",
              "      <td>2</td>\n",
              "      <td>38</td>\n",
              "      <td>0</td>\n",
              "      <td>4</td>\n",
              "      <td>0</td>\n",
              "    </tr>\n",
              "    <tr>\n",
              "      <th>3</th>\n",
              "      <td>21</td>\n",
              "      <td>13</td>\n",
              "      <td>11</td>\n",
              "      <td>892</td>\n",
              "      <td>35</td>\n",
              "      <td>1</td>\n",
              "      <td>21</td>\n",
              "      <td>0</td>\n",
              "      <td>5</td>\n",
              "      <td>1</td>\n",
              "    </tr>\n",
              "    <tr>\n",
              "      <th>4</th>\n",
              "      <td>4</td>\n",
              "      <td>3</td>\n",
              "      <td>123</td>\n",
              "      <td>25</td>\n",
              "      <td>788</td>\n",
              "      <td>0</td>\n",
              "      <td>54</td>\n",
              "      <td>0</td>\n",
              "      <td>3</td>\n",
              "      <td>0</td>\n",
              "    </tr>\n",
              "    <tr>\n",
              "      <th>5</th>\n",
              "      <td>1</td>\n",
              "      <td>0</td>\n",
              "      <td>0</td>\n",
              "      <td>1</td>\n",
              "      <td>0</td>\n",
              "      <td>936</td>\n",
              "      <td>0</td>\n",
              "      <td>35</td>\n",
              "      <td>2</td>\n",
              "      <td>25</td>\n",
              "    </tr>\n",
              "    <tr>\n",
              "      <th>6</th>\n",
              "      <td>141</td>\n",
              "      <td>0</td>\n",
              "      <td>102</td>\n",
              "      <td>23</td>\n",
              "      <td>53</td>\n",
              "      <td>1</td>\n",
              "      <td>663</td>\n",
              "      <td>0</td>\n",
              "      <td>17</td>\n",
              "      <td>0</td>\n",
              "    </tr>\n",
              "    <tr>\n",
              "      <th>7</th>\n",
              "      <td>0</td>\n",
              "      <td>0</td>\n",
              "      <td>0</td>\n",
              "      <td>0</td>\n",
              "      <td>0</td>\n",
              "      <td>8</td>\n",
              "      <td>0</td>\n",
              "      <td>974</td>\n",
              "      <td>0</td>\n",
              "      <td>18</td>\n",
              "    </tr>\n",
              "    <tr>\n",
              "      <th>8</th>\n",
              "      <td>12</td>\n",
              "      <td>0</td>\n",
              "      <td>7</td>\n",
              "      <td>2</td>\n",
              "      <td>1</td>\n",
              "      <td>1</td>\n",
              "      <td>3</td>\n",
              "      <td>5</td>\n",
              "      <td>968</td>\n",
              "      <td>1</td>\n",
              "    </tr>\n",
              "    <tr>\n",
              "      <th>9</th>\n",
              "      <td>0</td>\n",
              "      <td>0</td>\n",
              "      <td>0</td>\n",
              "      <td>0</td>\n",
              "      <td>0</td>\n",
              "      <td>6</td>\n",
              "      <td>1</td>\n",
              "      <td>36</td>\n",
              "      <td>0</td>\n",
              "      <td>957</td>\n",
              "    </tr>\n",
              "  </tbody>\n",
              "</table>\n",
              "</div>\n",
              "      <button class=\"colab-df-convert\" onclick=\"convertToInteractive('df-56c9e2e0-ae5f-410a-b0f8-0bd4c44fbd99')\"\n",
              "              title=\"Convert this dataframe to an interactive table.\"\n",
              "              style=\"display:none;\">\n",
              "\n",
              "  <svg xmlns=\"http://www.w3.org/2000/svg\" height=\"24px\"viewBox=\"0 0 24 24\"\n",
              "       width=\"24px\">\n",
              "    <path d=\"M0 0h24v24H0V0z\" fill=\"none\"/>\n",
              "    <path d=\"M18.56 5.44l.94 2.06.94-2.06 2.06-.94-2.06-.94-.94-2.06-.94 2.06-2.06.94zm-11 1L8.5 8.5l.94-2.06 2.06-.94-2.06-.94L8.5 2.5l-.94 2.06-2.06.94zm10 10l.94 2.06.94-2.06 2.06-.94-2.06-.94-.94-2.06-.94 2.06-2.06.94z\"/><path d=\"M17.41 7.96l-1.37-1.37c-.4-.4-.92-.59-1.43-.59-.52 0-1.04.2-1.43.59L10.3 9.45l-7.72 7.72c-.78.78-.78 2.05 0 2.83L4 21.41c.39.39.9.59 1.41.59.51 0 1.02-.2 1.41-.59l7.78-7.78 2.81-2.81c.8-.78.8-2.07 0-2.86zM5.41 20L4 18.59l7.72-7.72 1.47 1.35L5.41 20z\"/>\n",
              "  </svg>\n",
              "      </button>\n",
              "\n",
              "\n",
              "\n",
              "    <div id=\"df-000ef093-2544-4a94-89b0-2dba61d7e58e\">\n",
              "      <button class=\"colab-df-quickchart\" onclick=\"quickchart('df-000ef093-2544-4a94-89b0-2dba61d7e58e')\"\n",
              "              title=\"Suggest charts.\"\n",
              "              style=\"display:none;\">\n",
              "\n",
              "<svg xmlns=\"http://www.w3.org/2000/svg\" height=\"24px\"viewBox=\"0 0 24 24\"\n",
              "     width=\"24px\">\n",
              "    <g>\n",
              "        <path d=\"M19 3H5c-1.1 0-2 .9-2 2v14c0 1.1.9 2 2 2h14c1.1 0 2-.9 2-2V5c0-1.1-.9-2-2-2zM9 17H7v-7h2v7zm4 0h-2V7h2v10zm4 0h-2v-4h2v4z\"/>\n",
              "    </g>\n",
              "</svg>\n",
              "      </button>\n",
              "    </div>\n",
              "\n",
              "<style>\n",
              "  .colab-df-quickchart {\n",
              "    background-color: #E8F0FE;\n",
              "    border: none;\n",
              "    border-radius: 50%;\n",
              "    cursor: pointer;\n",
              "    display: none;\n",
              "    fill: #1967D2;\n",
              "    height: 32px;\n",
              "    padding: 0 0 0 0;\n",
              "    width: 32px;\n",
              "  }\n",
              "\n",
              "  .colab-df-quickchart:hover {\n",
              "    background-color: #E2EBFA;\n",
              "    box-shadow: 0px 1px 2px rgba(60, 64, 67, 0.3), 0px 1px 3px 1px rgba(60, 64, 67, 0.15);\n",
              "    fill: #174EA6;\n",
              "  }\n",
              "\n",
              "  [theme=dark] .colab-df-quickchart {\n",
              "    background-color: #3B4455;\n",
              "    fill: #D2E3FC;\n",
              "  }\n",
              "\n",
              "  [theme=dark] .colab-df-quickchart:hover {\n",
              "    background-color: #434B5C;\n",
              "    box-shadow: 0px 1px 3px 1px rgba(0, 0, 0, 0.15);\n",
              "    filter: drop-shadow(0px 1px 2px rgba(0, 0, 0, 0.3));\n",
              "    fill: #FFFFFF;\n",
              "  }\n",
              "</style>\n",
              "\n",
              "    <script>\n",
              "      async function quickchart(key) {\n",
              "        const containerElement = document.querySelector('#' + key);\n",
              "        const charts = await google.colab.kernel.invokeFunction(\n",
              "            'suggestCharts', [key], {});\n",
              "      }\n",
              "    </script>\n",
              "\n",
              "      <script>\n",
              "\n",
              "function displayQuickchartButton(domScope) {\n",
              "  let quickchartButtonEl =\n",
              "    domScope.querySelector('#df-000ef093-2544-4a94-89b0-2dba61d7e58e button.colab-df-quickchart');\n",
              "  quickchartButtonEl.style.display =\n",
              "    google.colab.kernel.accessAllowed ? 'block' : 'none';\n",
              "}\n",
              "\n",
              "        displayQuickchartButton(document);\n",
              "      </script>\n",
              "      <style>\n",
              "    .colab-df-container {\n",
              "      display:flex;\n",
              "      flex-wrap:wrap;\n",
              "      gap: 12px;\n",
              "    }\n",
              "\n",
              "    .colab-df-convert {\n",
              "      background-color: #E8F0FE;\n",
              "      border: none;\n",
              "      border-radius: 50%;\n",
              "      cursor: pointer;\n",
              "      display: none;\n",
              "      fill: #1967D2;\n",
              "      height: 32px;\n",
              "      padding: 0 0 0 0;\n",
              "      width: 32px;\n",
              "    }\n",
              "\n",
              "    .colab-df-convert:hover {\n",
              "      background-color: #E2EBFA;\n",
              "      box-shadow: 0px 1px 2px rgba(60, 64, 67, 0.3), 0px 1px 3px 1px rgba(60, 64, 67, 0.15);\n",
              "      fill: #174EA6;\n",
              "    }\n",
              "\n",
              "    [theme=dark] .colab-df-convert {\n",
              "      background-color: #3B4455;\n",
              "      fill: #D2E3FC;\n",
              "    }\n",
              "\n",
              "    [theme=dark] .colab-df-convert:hover {\n",
              "      background-color: #434B5C;\n",
              "      box-shadow: 0px 1px 3px 1px rgba(0, 0, 0, 0.15);\n",
              "      filter: drop-shadow(0px 1px 2px rgba(0, 0, 0, 0.3));\n",
              "      fill: #FFFFFF;\n",
              "    }\n",
              "  </style>\n",
              "\n",
              "      <script>\n",
              "        const buttonEl =\n",
              "          document.querySelector('#df-56c9e2e0-ae5f-410a-b0f8-0bd4c44fbd99 button.colab-df-convert');\n",
              "        buttonEl.style.display =\n",
              "          google.colab.kernel.accessAllowed ? 'block' : 'none';\n",
              "\n",
              "        async function convertToInteractive(key) {\n",
              "          const element = document.querySelector('#df-56c9e2e0-ae5f-410a-b0f8-0bd4c44fbd99');\n",
              "          const dataTable =\n",
              "            await google.colab.kernel.invokeFunction('convertToInteractive',\n",
              "                                                     [key], {});\n",
              "          if (!dataTable) return;\n",
              "\n",
              "          const docLinkHtml = 'Like what you see? Visit the ' +\n",
              "            '<a target=\"_blank\" href=https://colab.research.google.com/notebooks/data_table.ipynb>data table notebook</a>'\n",
              "            + ' to learn more about interactive tables.';\n",
              "          element.innerHTML = '';\n",
              "          dataTable['output_type'] = 'display_data';\n",
              "          await google.colab.output.renderOutput(dataTable, element);\n",
              "          const docLink = document.createElement('div');\n",
              "          docLink.innerHTML = docLinkHtml;\n",
              "          element.appendChild(docLink);\n",
              "        }\n",
              "      </script>\n",
              "    </div>\n",
              "  </div>\n"
            ]
          },
          "metadata": {},
          "execution_count": 51
        }
      ]
    },
    {
      "cell_type": "code",
      "source": [
        "ConfusionMatrixDisplay,\n",
        "disp=ConfusionMatrixDisplay(cm,display_labels = list(label_encoder.values()))\n",
        "disp.plot(xticks_rotation='vertical',cmap='Greys',colorbar=False)"
      ],
      "metadata": {
        "colab": {
          "base_uri": "https://localhost:8080/",
          "height": 527
        },
        "id": "ca4PPGPwQxLl",
        "outputId": "aa44d461-fb73-42cc-b094-1bb63428575b"
      },
      "execution_count": 52,
      "outputs": [
        {
          "output_type": "execute_result",
          "data": {
            "text/plain": [
              "<sklearn.metrics._plot.confusion_matrix.ConfusionMatrixDisplay at 0x7c87fd4140a0>"
            ]
          },
          "metadata": {},
          "execution_count": 52
        },
        {
          "output_type": "display_data",
          "data": {
            "text/plain": [
              "<Figure size 640x480 with 1 Axes>"
            ],
            "image/png": "[encoded data removed]"
          },
          "metadata": {}
        }
      ]
    },
    {
      "cell_type": "code",
      "source": [
        "import seaborn as sns\n",
        "plt.xlabel(\"Predicted Values\")\n",
        "plt.ylabel(\"Actual Values\")\n",
        "sns.heatmap(np.round(confusion_matrix(y_test,y_pred),0),annot=True,cmap='Greens',fmt='.0f',\n",
        "            xticklabels=list(label_encoder.values()),\n",
        "            yticklabels=list(label_encoder.values()))"
      ],
      "metadata": {
        "colab": {
          "base_uri": "https://localhost:8080/",
          "height": 507
        },
        "id": "h1hVatkGLTJS",
        "outputId": "d648f056-4d49-4d8a-d5df-07a5ed0c6a56"
      },
      "execution_count": 53,
      "outputs": [
        {
          "output_type": "execute_result",
          "data": {
            "text/plain": [
              "<Axes: >"
            ]
          },
          "metadata": {},
          "execution_count": 53
        },
        {
          "output_type": "display_data",
          "data": {
            "text/plain": [
              "<Figure size 640x480 with 2 Axes>"
            ],
            "image/png": "[encoded data removed]"
          },
          "metadata": {}
        }
      ]
    },
    {
      "cell_type": "code",
      "source": [
        "from sklearn.metrics import classification_report"
      ],
      "metadata": {
        "id": "yMYCUZV3LvmN"
      },
      "execution_count": 54,
      "outputs": []
    },
    {
      "cell_type": "code",
      "source": [
        "import warnings\n",
        "warnings.filterwarnings(\"ignore\", category=FutureWarning)\n"
      ],
      "metadata": {
        "id": "aJug9Oul9WKr"
      },
      "execution_count": 55,
      "outputs": []
    },
    {
      "cell_type": "code",
      "source": [
        "print(classification_report(y_test, y_pred,zero_division =1,target_names=list(label_encoder.values())))\n",
        "#labels=list(label_encoder.values())"
      ],
      "metadata": {
        "colab": {
          "base_uri": "https://localhost:8080/"
        },
        "id": "AMMDatZz7O9E",
        "outputId": "98e52684-a629-460f-d239-5dcb5da537b6"
      },
      "execution_count": 56,
      "outputs": [
        {
          "output_type": "stream",
          "name": "stdout",
          "text": [
            "              precision    recall  f1-score   support\n",
            "\n",
            " T-shirt/top       0.81      0.88      0.84      1000\n",
            "     Trouser       0.98      0.98      0.98      1000\n",
            "    Pullover       0.77      0.86      0.81      1000\n",
            "       Dress       0.91      0.89      0.90      1000\n",
            "        Coat       0.84      0.79      0.81      1000\n",
            "      Sandal       0.98      0.94      0.96      1000\n",
            "       Shirt       0.77      0.66      0.71      1000\n",
            "     Sneaker       0.93      0.97      0.95      1000\n",
            "         Bag       0.96      0.97      0.97      1000\n",
            "  Ankle boot       0.96      0.96      0.96      1000\n",
            "\n",
            "    accuracy                           0.89     10000\n",
            "   macro avg       0.89      0.89      0.89     10000\n",
            "weighted avg       0.89      0.89      0.89     10000\n",
            "\n"
          ]
        }
      ]
    },
    {
      "cell_type": "code",
      "source": [],
      "metadata": {
        "id": "hX2MNpSI7_Rp"
      },
      "execution_count": null,
      "outputs": []
    }
  ]
}